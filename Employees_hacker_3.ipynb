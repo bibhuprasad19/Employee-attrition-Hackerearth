{
  "nbformat": 4,
  "nbformat_minor": 0,
  "metadata": {
    "colab": {
      "name": "Employees_hacker_3.ipynb",
      "provenance": [],
      "collapsed_sections": [],
      "mount_file_id": "1-PqSg5aVk5baaLOZqJpaju1AM03hWjeu",
      "authorship_tag": "ABX9TyMvfbLYO+IMAiTuVl+9UbE4",
      "include_colab_link": true
    },
    "kernelspec": {
      "name": "python3",
      "display_name": "Python 3"
    }
  },
  "cells": [
    {
      "cell_type": "markdown",
      "metadata": {
        "id": "view-in-github",
        "colab_type": "text"
      },
      "source": [
        "<a href=\"https://colab.research.google.com/github/bibhuprasad19/Employee-attrition-Hackerearth/blob/master/Employees_hacker_3.ipynb\" target=\"_parent\"><img src=\"https://colab.research.google.com/assets/colab-badge.svg\" alt=\"Open In Colab\"/></a>"
      ]
    },
    {
      "cell_type": "code",
      "metadata": {
        "id": "qkdmQ4zsDXka",
        "colab_type": "code",
        "colab": {}
      },
      "source": [
        "import pandas as pd\n",
        "import matplotlib.pyplot as plt\n",
        "import seaborn as sns\n",
        "import sklearn.preprocessing\n",
        "import sklearn.metrics\n",
        "import numpy as np\n"
      ],
      "execution_count": null,
      "outputs": []
    },
    {
      "cell_type": "code",
      "metadata": {
        "id": "0onsTBto0aVX",
        "colab_type": "code",
        "colab": {
          "base_uri": "https://localhost:8080/",
          "height": 251
        },
        "outputId": "b3f94a72-b3b3-42ad-de79-7be33c6c0997"
      },
      "source": [
        "train_data=pd.read_csv('/content/drive/My Drive/Dataset/Train.csv')\n",
        "y=train_data['Attrition_rate']\n",
        "train_data.head()"
      ],
      "execution_count": null,
      "outputs": [
        {
          "output_type": "execute_result",
          "data": {
            "text/html": [
              "<div>\n",
              "<style scoped>\n",
              "    .dataframe tbody tr th:only-of-type {\n",
              "        vertical-align: middle;\n",
              "    }\n",
              "\n",
              "    .dataframe tbody tr th {\n",
              "        vertical-align: top;\n",
              "    }\n",
              "\n",
              "    .dataframe thead th {\n",
              "        text-align: right;\n",
              "    }\n",
              "</style>\n",
              "<table border=\"1\" class=\"dataframe\">\n",
              "  <thead>\n",
              "    <tr style=\"text-align: right;\">\n",
              "      <th></th>\n",
              "      <th>Employee_ID</th>\n",
              "      <th>Gender</th>\n",
              "      <th>Age</th>\n",
              "      <th>Education_Level</th>\n",
              "      <th>Relationship_Status</th>\n",
              "      <th>Hometown</th>\n",
              "      <th>Unit</th>\n",
              "      <th>Decision_skill_possess</th>\n",
              "      <th>Time_of_service</th>\n",
              "      <th>Time_since_promotion</th>\n",
              "      <th>growth_rate</th>\n",
              "      <th>Travel_Rate</th>\n",
              "      <th>Post_Level</th>\n",
              "      <th>Pay_Scale</th>\n",
              "      <th>Compensation_and_Benefits</th>\n",
              "      <th>Work_Life_balance</th>\n",
              "      <th>VAR1</th>\n",
              "      <th>VAR2</th>\n",
              "      <th>VAR3</th>\n",
              "      <th>VAR4</th>\n",
              "      <th>VAR5</th>\n",
              "      <th>VAR6</th>\n",
              "      <th>VAR7</th>\n",
              "      <th>Attrition_rate</th>\n",
              "    </tr>\n",
              "  </thead>\n",
              "  <tbody>\n",
              "    <tr>\n",
              "      <th>0</th>\n",
              "      <td>EID_23371</td>\n",
              "      <td>F</td>\n",
              "      <td>42.0</td>\n",
              "      <td>4</td>\n",
              "      <td>Married</td>\n",
              "      <td>Franklin</td>\n",
              "      <td>IT</td>\n",
              "      <td>Conceptual</td>\n",
              "      <td>4.0</td>\n",
              "      <td>4</td>\n",
              "      <td>33</td>\n",
              "      <td>1</td>\n",
              "      <td>1</td>\n",
              "      <td>7.0</td>\n",
              "      <td>type2</td>\n",
              "      <td>3.0</td>\n",
              "      <td>4</td>\n",
              "      <td>0.7516</td>\n",
              "      <td>1.8688</td>\n",
              "      <td>2.0</td>\n",
              "      <td>4</td>\n",
              "      <td>5</td>\n",
              "      <td>3</td>\n",
              "      <td>0.1841</td>\n",
              "    </tr>\n",
              "    <tr>\n",
              "      <th>1</th>\n",
              "      <td>EID_18000</td>\n",
              "      <td>M</td>\n",
              "      <td>24.0</td>\n",
              "      <td>3</td>\n",
              "      <td>Single</td>\n",
              "      <td>Springfield</td>\n",
              "      <td>Logistics</td>\n",
              "      <td>Analytical</td>\n",
              "      <td>5.0</td>\n",
              "      <td>4</td>\n",
              "      <td>36</td>\n",
              "      <td>0</td>\n",
              "      <td>3</td>\n",
              "      <td>6.0</td>\n",
              "      <td>type2</td>\n",
              "      <td>4.0</td>\n",
              "      <td>3</td>\n",
              "      <td>-0.9612</td>\n",
              "      <td>-0.4537</td>\n",
              "      <td>2.0</td>\n",
              "      <td>3</td>\n",
              "      <td>5</td>\n",
              "      <td>3</td>\n",
              "      <td>0.0670</td>\n",
              "    </tr>\n",
              "    <tr>\n",
              "      <th>2</th>\n",
              "      <td>EID_3891</td>\n",
              "      <td>F</td>\n",
              "      <td>58.0</td>\n",
              "      <td>3</td>\n",
              "      <td>Married</td>\n",
              "      <td>Clinton</td>\n",
              "      <td>Quality</td>\n",
              "      <td>Conceptual</td>\n",
              "      <td>27.0</td>\n",
              "      <td>3</td>\n",
              "      <td>51</td>\n",
              "      <td>0</td>\n",
              "      <td>2</td>\n",
              "      <td>8.0</td>\n",
              "      <td>type2</td>\n",
              "      <td>1.0</td>\n",
              "      <td>4</td>\n",
              "      <td>-0.9612</td>\n",
              "      <td>-0.4537</td>\n",
              "      <td>3.0</td>\n",
              "      <td>3</td>\n",
              "      <td>8</td>\n",
              "      <td>3</td>\n",
              "      <td>0.0851</td>\n",
              "    </tr>\n",
              "    <tr>\n",
              "      <th>3</th>\n",
              "      <td>EID_17492</td>\n",
              "      <td>F</td>\n",
              "      <td>26.0</td>\n",
              "      <td>3</td>\n",
              "      <td>Single</td>\n",
              "      <td>Lebanon</td>\n",
              "      <td>Human Resource Management</td>\n",
              "      <td>Behavioral</td>\n",
              "      <td>4.0</td>\n",
              "      <td>3</td>\n",
              "      <td>56</td>\n",
              "      <td>1</td>\n",
              "      <td>3</td>\n",
              "      <td>8.0</td>\n",
              "      <td>type2</td>\n",
              "      <td>1.0</td>\n",
              "      <td>3</td>\n",
              "      <td>-1.8176</td>\n",
              "      <td>-0.4537</td>\n",
              "      <td>NaN</td>\n",
              "      <td>3</td>\n",
              "      <td>7</td>\n",
              "      <td>3</td>\n",
              "      <td>0.0668</td>\n",
              "    </tr>\n",
              "    <tr>\n",
              "      <th>4</th>\n",
              "      <td>EID_22534</td>\n",
              "      <td>F</td>\n",
              "      <td>31.0</td>\n",
              "      <td>1</td>\n",
              "      <td>Married</td>\n",
              "      <td>Springfield</td>\n",
              "      <td>Logistics</td>\n",
              "      <td>Conceptual</td>\n",
              "      <td>5.0</td>\n",
              "      <td>4</td>\n",
              "      <td>62</td>\n",
              "      <td>1</td>\n",
              "      <td>3</td>\n",
              "      <td>2.0</td>\n",
              "      <td>type3</td>\n",
              "      <td>3.0</td>\n",
              "      <td>1</td>\n",
              "      <td>0.7516</td>\n",
              "      <td>-0.4537</td>\n",
              "      <td>2.0</td>\n",
              "      <td>2</td>\n",
              "      <td>8</td>\n",
              "      <td>2</td>\n",
              "      <td>0.1827</td>\n",
              "    </tr>\n",
              "  </tbody>\n",
              "</table>\n",
              "</div>"
            ],
            "text/plain": [
              "  Employee_ID Gender   Age  Education_Level  ... VAR5 VAR6 VAR7 Attrition_rate\n",
              "0   EID_23371      F  42.0                4  ...    4    5    3         0.1841\n",
              "1   EID_18000      M  24.0                3  ...    3    5    3         0.0670\n",
              "2    EID_3891      F  58.0                3  ...    3    8    3         0.0851\n",
              "3   EID_17492      F  26.0                3  ...    3    7    3         0.0668\n",
              "4   EID_22534      F  31.0                1  ...    2    8    2         0.1827\n",
              "\n",
              "[5 rows x 24 columns]"
            ]
          },
          "metadata": {
            "tags": []
          },
          "execution_count": 369
        }
      ]
    },
    {
      "cell_type": "code",
      "metadata": {
        "id": "gg-LwkyGI7t2",
        "colab_type": "code",
        "colab": {
          "base_uri": "https://localhost:8080/",
          "height": 34
        },
        "outputId": "5eae38cf-be44-487d-9d28-b5f8ec6dd8f2"
      },
      "source": [
        "corr_matrix=train_data.corr()\n",
        "corr_matrix['Attrition_rate'].sort_values(ascending=True)\n",
        "max(train_data['growth_rate'])"
      ],
      "execution_count": null,
      "outputs": [
        {
          "output_type": "execute_result",
          "data": {
            "text/plain": [
              "74"
            ]
          },
          "metadata": {
            "tags": []
          },
          "execution_count": 370
        }
      ]
    },
    {
      "cell_type": "code",
      "metadata": {
        "id": "Je1e3DeKlj0E",
        "colab_type": "code",
        "colab": {
          "base_uri": "https://localhost:8080/",
          "height": 52
        },
        "outputId": "711efcb7-d651-4590-90e5-2d54ee9c2dc3"
      },
      "source": [
        "import seaborn as sns\n",
        "import matplotlib.pyplot as plt\n",
        "plt.figure(figsize=(20,10))\n",
        "#sns.heatmap(train_data.corr(),vmin=-1,vmax=1,annot=True)"
      ],
      "execution_count": null,
      "outputs": [
        {
          "output_type": "execute_result",
          "data": {
            "text/plain": [
              "<Figure size 1440x720 with 0 Axes>"
            ]
          },
          "metadata": {
            "tags": []
          },
          "execution_count": 371
        },
        {
          "output_type": "display_data",
          "data": {
            "text/plain": [
              "<Figure size 1440x720 with 0 Axes>"
            ]
          },
          "metadata": {
            "tags": []
          }
        }
      ]
    },
    {
      "cell_type": "code",
      "metadata": {
        "id": "YeFk54z4DrJn",
        "colab_type": "code",
        "colab": {
          "base_uri": "https://localhost:8080/",
          "height": 123
        },
        "outputId": "9a6fe6d6-5789-47d9-8af1-affbace91bb2"
      },
      "source": [
        "\n",
        "train_data_X=train_data[['Education_Level',\"Time_since_promotion\",'growth_rate','Post_Level','Work_Life_balance','VAR4','VAR2','VAR1','VAR3','VAR5',\"VAR6\"]]\n",
        "\n",
        "y_target=train_data.Attrition_rate\n",
        "y_target.head()\n",
        "#train_data.describe()"
      ],
      "execution_count": null,
      "outputs": [
        {
          "output_type": "execute_result",
          "data": {
            "text/plain": [
              "0    0.1841\n",
              "1    0.0670\n",
              "2    0.0851\n",
              "3    0.0668\n",
              "4    0.1827\n",
              "Name: Attrition_rate, dtype: float64"
            ]
          },
          "metadata": {
            "tags": []
          },
          "execution_count": 372
        }
      ]
    },
    {
      "cell_type": "code",
      "metadata": {
        "id": "8QcLGA9_I46Q",
        "colab_type": "code",
        "colab": {}
      },
      "source": [
        ""
      ],
      "execution_count": null,
      "outputs": []
    },
    {
      "cell_type": "code",
      "metadata": {
        "id": "IJYWGpvuEQeA",
        "colab_type": "code",
        "colab": {
          "base_uri": "https://localhost:8080/",
          "height": 234
        },
        "outputId": "288c91dc-8181-447b-f370-85a43ee3db91"
      },
      "source": [
        "test_data=pd.read_csv('/content/drive/My Drive/Dataset/Test.csv')\n",
        "test_data.head()"
      ],
      "execution_count": null,
      "outputs": [
        {
          "output_type": "execute_result",
          "data": {
            "text/html": [
              "<div>\n",
              "<style scoped>\n",
              "    .dataframe tbody tr th:only-of-type {\n",
              "        vertical-align: middle;\n",
              "    }\n",
              "\n",
              "    .dataframe tbody tr th {\n",
              "        vertical-align: top;\n",
              "    }\n",
              "\n",
              "    .dataframe thead th {\n",
              "        text-align: right;\n",
              "    }\n",
              "</style>\n",
              "<table border=\"1\" class=\"dataframe\">\n",
              "  <thead>\n",
              "    <tr style=\"text-align: right;\">\n",
              "      <th></th>\n",
              "      <th>Unnamed: 0</th>\n",
              "      <th>Unnamed: 0.1</th>\n",
              "      <th>Unnamed: 0.1.1</th>\n",
              "      <th>Unnamed: 0.1.1.1</th>\n",
              "      <th>Unnamed: 0.1.1.1.1</th>\n",
              "      <th>Unnamed: 0.1.1.1.1.1</th>\n",
              "      <th>Unnamed: 0.1.1.1.1.1.1</th>\n",
              "      <th>Employee_ID</th>\n",
              "      <th>Gender</th>\n",
              "      <th>Age</th>\n",
              "      <th>Education_Level</th>\n",
              "      <th>Relationship_Status</th>\n",
              "      <th>Hometown</th>\n",
              "      <th>Unit</th>\n",
              "      <th>Decision_skill_possess</th>\n",
              "      <th>Time_of_service</th>\n",
              "      <th>Time_since_promotion</th>\n",
              "      <th>growth_rate</th>\n",
              "      <th>Travel_Rate</th>\n",
              "      <th>Post_Level</th>\n",
              "      <th>Pay_Scale</th>\n",
              "      <th>Compensation_and_Benefits</th>\n",
              "      <th>Work_Life_balance</th>\n",
              "      <th>VAR1</th>\n",
              "      <th>VAR2</th>\n",
              "      <th>VAR3</th>\n",
              "      <th>VAR4</th>\n",
              "      <th>VAR5</th>\n",
              "      <th>VAR6</th>\n",
              "      <th>VAR7</th>\n",
              "      <th>Attribution_rate</th>\n",
              "    </tr>\n",
              "  </thead>\n",
              "  <tbody>\n",
              "    <tr>\n",
              "      <th>0</th>\n",
              "      <td>0</td>\n",
              "      <td>0</td>\n",
              "      <td>0</td>\n",
              "      <td>0</td>\n",
              "      <td>0</td>\n",
              "      <td>0</td>\n",
              "      <td>0</td>\n",
              "      <td>EID_22713</td>\n",
              "      <td>F</td>\n",
              "      <td>32.0</td>\n",
              "      <td>5</td>\n",
              "      <td>Single</td>\n",
              "      <td>Springfield</td>\n",
              "      <td>R&amp;D</td>\n",
              "      <td>Conceptual</td>\n",
              "      <td>7.0</td>\n",
              "      <td>4</td>\n",
              "      <td>30</td>\n",
              "      <td>1</td>\n",
              "      <td>5</td>\n",
              "      <td>4.0</td>\n",
              "      <td>type2</td>\n",
              "      <td>1.0</td>\n",
              "      <td>3</td>\n",
              "      <td>-0.9612</td>\n",
              "      <td>-0.4537</td>\n",
              "      <td>2.0</td>\n",
              "      <td>1</td>\n",
              "      <td>8</td>\n",
              "      <td>4</td>\n",
              "      <td>0.196348</td>\n",
              "    </tr>\n",
              "    <tr>\n",
              "      <th>1</th>\n",
              "      <td>1</td>\n",
              "      <td>1</td>\n",
              "      <td>1</td>\n",
              "      <td>1</td>\n",
              "      <td>1</td>\n",
              "      <td>1</td>\n",
              "      <td>1</td>\n",
              "      <td>EID_9658</td>\n",
              "      <td>M</td>\n",
              "      <td>65.0</td>\n",
              "      <td>2</td>\n",
              "      <td>Single</td>\n",
              "      <td>Lebanon</td>\n",
              "      <td>IT</td>\n",
              "      <td>Directive</td>\n",
              "      <td>41.0</td>\n",
              "      <td>2</td>\n",
              "      <td>72</td>\n",
              "      <td>1</td>\n",
              "      <td>1</td>\n",
              "      <td>1.0</td>\n",
              "      <td>type2</td>\n",
              "      <td>1.0</td>\n",
              "      <td>4</td>\n",
              "      <td>-0.9612</td>\n",
              "      <td>0.7075</td>\n",
              "      <td>1.0</td>\n",
              "      <td>2</td>\n",
              "      <td>8</td>\n",
              "      <td>2</td>\n",
              "      <td>0.185719</td>\n",
              "    </tr>\n",
              "    <tr>\n",
              "      <th>2</th>\n",
              "      <td>2</td>\n",
              "      <td>2</td>\n",
              "      <td>2</td>\n",
              "      <td>2</td>\n",
              "      <td>2</td>\n",
              "      <td>2</td>\n",
              "      <td>2</td>\n",
              "      <td>EID_22203</td>\n",
              "      <td>M</td>\n",
              "      <td>52.0</td>\n",
              "      <td>3</td>\n",
              "      <td>Married</td>\n",
              "      <td>Springfield</td>\n",
              "      <td>Sales</td>\n",
              "      <td>Directive</td>\n",
              "      <td>21.0</td>\n",
              "      <td>3</td>\n",
              "      <td>25</td>\n",
              "      <td>0</td>\n",
              "      <td>1</td>\n",
              "      <td>8.0</td>\n",
              "      <td>type3</td>\n",
              "      <td>1.0</td>\n",
              "      <td>4</td>\n",
              "      <td>-0.1048</td>\n",
              "      <td>0.7075</td>\n",
              "      <td>2.0</td>\n",
              "      <td>1</td>\n",
              "      <td>9</td>\n",
              "      <td>3</td>\n",
              "      <td>0.165640</td>\n",
              "    </tr>\n",
              "    <tr>\n",
              "      <th>3</th>\n",
              "      <td>3</td>\n",
              "      <td>3</td>\n",
              "      <td>3</td>\n",
              "      <td>3</td>\n",
              "      <td>3</td>\n",
              "      <td>3</td>\n",
              "      <td>3</td>\n",
              "      <td>EID_7652</td>\n",
              "      <td>M</td>\n",
              "      <td>50.0</td>\n",
              "      <td>5</td>\n",
              "      <td>Single</td>\n",
              "      <td>Washington</td>\n",
              "      <td>Marketing</td>\n",
              "      <td>Analytical</td>\n",
              "      <td>11.0</td>\n",
              "      <td>4</td>\n",
              "      <td>28</td>\n",
              "      <td>1</td>\n",
              "      <td>1</td>\n",
              "      <td>2.0</td>\n",
              "      <td>type0</td>\n",
              "      <td>4.0</td>\n",
              "      <td>3</td>\n",
              "      <td>-0.1048</td>\n",
              "      <td>0.7075</td>\n",
              "      <td>2.0</td>\n",
              "      <td>2</td>\n",
              "      <td>8</td>\n",
              "      <td>3</td>\n",
              "      <td>0.191409</td>\n",
              "    </tr>\n",
              "    <tr>\n",
              "      <th>4</th>\n",
              "      <td>4</td>\n",
              "      <td>4</td>\n",
              "      <td>4</td>\n",
              "      <td>4</td>\n",
              "      <td>4</td>\n",
              "      <td>4</td>\n",
              "      <td>4</td>\n",
              "      <td>EID_6516</td>\n",
              "      <td>F</td>\n",
              "      <td>44.0</td>\n",
              "      <td>3</td>\n",
              "      <td>Married</td>\n",
              "      <td>Franklin</td>\n",
              "      <td>R&amp;D</td>\n",
              "      <td>Conceptual</td>\n",
              "      <td>12.0</td>\n",
              "      <td>4</td>\n",
              "      <td>47</td>\n",
              "      <td>1</td>\n",
              "      <td>3</td>\n",
              "      <td>2.0</td>\n",
              "      <td>type2</td>\n",
              "      <td>4.0</td>\n",
              "      <td>4</td>\n",
              "      <td>1.6081</td>\n",
              "      <td>0.7075</td>\n",
              "      <td>2.0</td>\n",
              "      <td>2</td>\n",
              "      <td>7</td>\n",
              "      <td>4</td>\n",
              "      <td>0.195940</td>\n",
              "    </tr>\n",
              "  </tbody>\n",
              "</table>\n",
              "</div>"
            ],
            "text/plain": [
              "   Unnamed: 0  Unnamed: 0.1  Unnamed: 0.1.1  ...  VAR6  VAR7  Attribution_rate\n",
              "0           0             0               0  ...     8     4          0.196348\n",
              "1           1             1               1  ...     8     2          0.185719\n",
              "2           2             2               2  ...     9     3          0.165640\n",
              "3           3             3               3  ...     8     3          0.191409\n",
              "4           4             4               4  ...     7     4          0.195940\n",
              "\n",
              "[5 rows x 31 columns]"
            ]
          },
          "metadata": {
            "tags": []
          },
          "execution_count": 373
        }
      ]
    },
    {
      "cell_type": "code",
      "metadata": {
        "id": "Ovkt-ZXPSRkN",
        "colab_type": "code",
        "colab": {
          "base_uri": "https://localhost:8080/",
          "height": 230
        },
        "outputId": "466ba674-9109-4947-f383-009cc3ce41e8"
      },
      "source": [
        "train_data_X.isnull().sum()"
      ],
      "execution_count": null,
      "outputs": [
        {
          "output_type": "execute_result",
          "data": {
            "text/plain": [
              "Education_Level           0\n",
              "Time_since_promotion      0\n",
              "growth_rate               0\n",
              "Post_Level                0\n",
              "Work_Life_balance        11\n",
              "VAR4                    656\n",
              "VAR2                    577\n",
              "VAR1                      0\n",
              "VAR3                      0\n",
              "VAR5                      0\n",
              "VAR6                      0\n",
              "dtype: int64"
            ]
          },
          "metadata": {
            "tags": []
          },
          "execution_count": 374
        }
      ]
    },
    {
      "cell_type": "code",
      "metadata": {
        "id": "3jMT0InvKHwE",
        "colab_type": "code",
        "colab": {
          "base_uri": "https://localhost:8080/",
          "height": 34
        },
        "outputId": "c3ab448e-b38a-4463-dcba-cea0090562b8"
      },
      "source": [
        "from sklearn.preprocessing import OneHotEncoder,LabelEncoder\n",
        "le=LabelEncoder()\n",
        "\n",
        "#train_data_X['Compensation_and_Benefits']=le.fit_transform(train_data_X['Compensation_and_Benefits'])\n",
        "train_data_X.shape"
      ],
      "execution_count": null,
      "outputs": [
        {
          "output_type": "execute_result",
          "data": {
            "text/plain": [
              "(7000, 11)"
            ]
          },
          "metadata": {
            "tags": []
          },
          "execution_count": 375
        }
      ]
    },
    {
      "cell_type": "code",
      "metadata": {
        "id": "s0tvC-iVKmGv",
        "colab_type": "code",
        "colab": {}
      },
      "source": [
        ""
      ],
      "execution_count": null,
      "outputs": []
    },
    {
      "cell_type": "code",
      "metadata": {
        "id": "Wa__BszvS1uz",
        "colab_type": "code",
        "colab": {
          "base_uri": "https://localhost:8080/",
          "height": 34
        },
        "outputId": "e2eef0b3-0000-42a6-b27a-93ec03e1ad2f"
      },
      "source": [
        "from sklearn.impute import SimpleImputer\n",
        "imp=SimpleImputer(strategy='mean')\n",
        "train_data_X_imputed = imp.fit_transform(train_data_X)\n",
        "#train_data_X= imp.transform(train_data_X)\n",
        "#train_data_X.isnull().sum()\n",
        "train_data_X_imputed.shape"
      ],
      "execution_count": null,
      "outputs": [
        {
          "output_type": "execute_result",
          "data": {
            "text/plain": [
              "(7000, 11)"
            ]
          },
          "metadata": {
            "tags": []
          },
          "execution_count": 376
        }
      ]
    },
    {
      "cell_type": "code",
      "metadata": {
        "id": "mEcQvTy9nxou",
        "colab_type": "code",
        "colab": {}
      },
      "source": [
        ""
      ],
      "execution_count": null,
      "outputs": []
    },
    {
      "cell_type": "code",
      "metadata": {
        "id": "muDSe1MPxLyS",
        "colab_type": "code",
        "colab": {}
      },
      "source": [
        ""
      ],
      "execution_count": null,
      "outputs": []
    },
    {
      "cell_type": "code",
      "metadata": {
        "id": "CTGd_4u9UA5m",
        "colab_type": "code",
        "colab": {
          "base_uri": "https://localhost:8080/",
          "height": 34
        },
        "outputId": "0032b28d-22ba-4cb7-99d6-b6435688e785"
      },
      "source": [
        "from sklearn.model_selection import train_test_split\n",
        "y=y_target\n",
        "X=train_data_X_imputed\n",
        "\n",
        "X_train, X_test, y_train, y_test =  train_test_split(X,y,test_size = 0.2)\n",
        "X_train.shape"
      ],
      "execution_count": null,
      "outputs": [
        {
          "output_type": "execute_result",
          "data": {
            "text/plain": [
              "(5600, 11)"
            ]
          },
          "metadata": {
            "tags": []
          },
          "execution_count": 378
        }
      ]
    },
    {
      "cell_type": "code",
      "metadata": {
        "id": "1QnRJvfsdnT4",
        "colab_type": "code",
        "colab": {
          "base_uri": "https://localhost:8080/",
          "height": 70
        },
        "outputId": "88299ddc-4ef9-4f2d-846c-15dcfac7c651"
      },
      "source": [
        "from sklearn.preprocessing import StandardScaler,MinMaxScaler,maxabs_scale,RobustScaler\n",
        "\n",
        "sc_X = StandardScaler()\n",
        "\n",
        "X_train_scaled =maxabs_scale(X_train)\n",
        "\n",
        "X_test=maxabs_scale(X_test)\n",
        "\n",
        "print(X_train_scaled.flatten()\n",
        ")\n",
        "\n",
        "X_train_scaled.shape#"
      ],
      "execution_count": null,
      "outputs": [
        {
          "output_type": "stream",
          "text": [
            "[ 0.4         1.          0.60810811 ... -0.16342483  0.2\n",
            "  0.55555556]\n"
          ],
          "name": "stdout"
        },
        {
          "output_type": "execute_result",
          "data": {
            "text/plain": [
              "(5600, 11)"
            ]
          },
          "metadata": {
            "tags": []
          },
          "execution_count": 379
        }
      ]
    },
    {
      "cell_type": "markdown",
      "metadata": {
        "id": "s4JVO4K81HWh",
        "colab_type": "text"
      },
      "source": [
        ""
      ]
    },
    {
      "cell_type": "code",
      "metadata": {
        "id": "wwl48BDgfafn",
        "colab_type": "code",
        "colab": {}
      },
      "source": [
        "from sklearn.linear_model import LinearRegression,ElasticNetCV,LassoCV,RidgeCV\n",
        "import xgboost \n",
        "from sklearn.ensemble import AdaBoostRegressor,RandomForestRegressor\n",
        "from sklearn.tree import DecisionTreeRegressor\n",
        "from sklearn.neighbors import KNeighborsRegressor\n",
        "from sklearn.svm import SVR\n",
        "\n",
        "from sklearn.metrics import mean_squared_error,r2_score\n",
        "from sklearn.model_selection import GridSearchCV\n"
      ],
      "execution_count": null,
      "outputs": []
    },
    {
      "cell_type": "code",
      "metadata": {
        "id": "q7TQJZNsfpEJ",
        "colab_type": "code",
        "colab": {}
      },
      "source": [
        "  \n"
      ],
      "execution_count": null,
      "outputs": []
    },
    {
      "cell_type": "code",
      "metadata": {
        "id": "tE0HlpZojIeE",
        "colab_type": "code",
        "colab": {
          "base_uri": "https://localhost:8080/",
          "height": 70
        },
        "outputId": "cf7be91e-4b7f-4614-8645-e9bebc4da77b"
      },
      "source": [
        "#linear_regression\n",
        "lin_regressor=LinearRegression(n_jobs=2)\n",
        "lin_regressor.fit(X_train_scaled,y_train)\n",
        "\n",
        "#elasticnet\n",
        "elast_regressor=ElasticNetCV()#alpha=1.0,l1_ratio=0.5\n",
        "elast_regressor.fit(X_train_scaled,y_train)\n",
        "\n",
        "#lasso\n",
        "lasso_regressor=LassoCV()\n",
        "lasso_regressor.fit(X_train,y_train)\n",
        "\n",
        "#Ridge\n",
        "ridge_regressor=RidgeCV()\n",
        "ridge_regressor.fit(X_train,y_train)\n",
        "\n",
        "#xgboost\n",
        "xgb_regressor=xgboost.XGBRegressor(max_depth=3,learning_rate=0.08,n_estimators=150)\n",
        "xgb_regressor.fit(X_train,y_train)\n",
        "\n",
        "#adaboost\n",
        "ada_regressor=AdaBoostRegressor(n_estimators=200,learning_rate=1.5,loss='linear')\n",
        "ada_regressor.fit(X_train,y_train)\n",
        "\n",
        "#decisionTree\n",
        "tree_regressor=DecisionTreeRegressor(max_depth=250)\n",
        "tree_regressor.fit(X_train,y_train)\n",
        "\n",
        "#randomforest\n",
        "forest_regressor=RandomForestRegressor(n_estimators=100,max_depth=10,random_state=0)\n",
        "forest_regressor.fit(X_train,y_train)\n",
        "\n",
        "#KNN\n",
        "knn_regressor=KNeighborsRegressor(n_neighbors=7,weights='uniform')\n",
        "knn_regressor.fit(X_train_scaled,y_train)\n",
        "\n",
        "#SVR\n",
        "svr_regressor=SVR(gamma=0.05,kernel='linear',C=5)#\n",
        "svr_regressor.fit(X_train_scaled,y_train)\n",
        "\n",
        "\n",
        "\n",
        "\n",
        "\n"
      ],
      "execution_count": null,
      "outputs": [
        {
          "output_type": "stream",
          "text": [
            "[19:14:22] WARNING: /workspace/src/objective/regression_obj.cu:152: reg:linear is now deprecated in favor of reg:squarederror.\n"
          ],
          "name": "stdout"
        },
        {
          "output_type": "execute_result",
          "data": {
            "text/plain": [
              "SVR(C=5, cache_size=200, coef0=0.0, degree=3, epsilon=0.1, gamma=0.05,\n",
              "    kernel='linear', max_iter=-1, shrinking=True, tol=0.001, verbose=False)"
            ]
          },
          "metadata": {
            "tags": []
          },
          "execution_count": 382
        }
      ]
    },
    {
      "cell_type": "code",
      "metadata": {
        "id": "KmWzXNs-JCSM",
        "colab_type": "code",
        "colab": {}
      },
      "source": [
        ""
      ],
      "execution_count": null,
      "outputs": []
    },
    {
      "cell_type": "code",
      "metadata": {
        "id": "MP-e8LtilxEs",
        "colab_type": "code",
        "colab": {}
      },
      "source": [
        "y_pred_lin = lin_regressor.predict(X_test)\n",
        "y_pred_elast=elast_regressor.predict(X_test)\n",
        "y_pred_lasso=lasso_regressor.predict(X_test)\n",
        "y_pred_ridge=ridge_regressor.predict(X_test)\n",
        "y_pred_xgb = xgb_regressor.predict(X_test)\n",
        "y_pred_ada = ada_regressor.predict(X_test)\n",
        "y_pred_tree = tree_regressor.predict(X_test)\n",
        "y_pred_forest = forest_regressor.predict(X_test)\n",
        "y_pred_knn = knn_regressor.predict(X_test)\n",
        "y_pred_svr = svr_regressor.predict(X_test)\n"
      ],
      "execution_count": null,
      "outputs": []
    },
    {
      "cell_type": "code",
      "metadata": {
        "id": "5_p5vPkU9njG",
        "colab_type": "code",
        "colab": {}
      },
      "source": [
        ""
      ],
      "execution_count": null,
      "outputs": []
    },
    {
      "cell_type": "code",
      "metadata": {
        "id": "yplo4eIrzvgn",
        "colab_type": "code",
        "colab": {
          "base_uri": "https://localhost:8080/",
          "height": 194
        },
        "outputId": "47c57b70-1caf-472c-b84d-717fa1737046"
      },
      "source": [
        "from sklearn import metrics \n",
        "\n",
        "print('Root Mean Squared Error of linear:', np.sqrt(metrics.mean_squared_error(y_test, y_pred_lin)))\n",
        "print('Root Mean Squared Error of Elasticnet:', np.sqrt(metrics.mean_squared_error(y_test, y_pred_elast)))\n",
        "print('Root Mean Squared Error of Lasso:', np.sqrt(metrics.mean_squared_error(y_test, y_pred_lasso)))\n",
        "print('Root Mean Squared Error of ridge:', np.sqrt(metrics.mean_squared_error(y_test, y_pred_ridge)))\n",
        "\n",
        "print('Root Mean Squared Error of xgb:', np.sqrt(metrics.mean_squared_error(y_test, y_pred_xgb)))\n",
        "print('Root Mean Squared Error of ada:', np.sqrt(metrics.mean_squared_error(y_test, y_pred_ada)))\n",
        "print('Root Mean Squared Error of tree:', np.sqrt(metrics.mean_squared_error(y_test, y_pred_tree)))\n",
        "print('Root Mean Squared Error of forest:', np.sqrt(metrics.mean_squared_error(y_test, y_pred_forest)))\n",
        "print('Root Mean Squared Error of knn:', np.sqrt(metrics.mean_squared_error(y_test, y_pred_knn)))\n",
        "print('Root Mean Squared Error of svr:', np.sqrt(metrics.mean_squared_error(y_test, y_pred_svr)))\n"
      ],
      "execution_count": null,
      "outputs": [
        {
          "output_type": "stream",
          "text": [
            "Root Mean Squared Error of linear: 0.19640654845476743\n",
            "Root Mean Squared Error of Elasticnet: 0.19633881919807608\n",
            "Root Mean Squared Error of Lasso: 0.19634113048547036\n",
            "Root Mean Squared Error of ridge: 0.1962502304407964\n",
            "Root Mean Squared Error of xgb: 0.21882774731442406\n",
            "Root Mean Squared Error of ada: 0.20325096074323493\n",
            "Root Mean Squared Error of tree: 0.600013223717373\n",
            "Root Mean Squared Error of forest: 0.24824129019522218\n",
            "Root Mean Squared Error of knn: 0.2067693944492361\n",
            "Root Mean Squared Error of svr: 0.1999026517618305\n"
          ],
          "name": "stdout"
        }
      ]
    },
    {
      "cell_type": "markdown",
      "metadata": {
        "id": "7bxO47cfP8cR",
        "colab_type": "text"
      },
      "source": [
        ""
      ]
    },
    {
      "cell_type": "code",
      "metadata": {
        "id": "UY9xG1tjP9q9",
        "colab_type": "code",
        "colab": {}
      },
      "source": [
        "########################################################################################\n",
        "###                          TESTING STARTS HERE"
      ],
      "execution_count": null,
      "outputs": []
    },
    {
      "cell_type": "code",
      "metadata": {
        "id": "y9FWOVeeP-w-",
        "colab_type": "code",
        "colab": {
          "base_uri": "https://localhost:8080/",
          "height": 443
        },
        "outputId": "74c16305-363f-41b4-f0bf-cc0c895988a4"
      },
      "source": [
        "testing_data=pd.read_csv('/content/drive/My Drive/Dataset/Test.csv')\n",
        "testing_data"
      ],
      "execution_count": null,
      "outputs": [
        {
          "output_type": "execute_result",
          "data": {
            "text/html": [
              "<div>\n",
              "<style scoped>\n",
              "    .dataframe tbody tr th:only-of-type {\n",
              "        vertical-align: middle;\n",
              "    }\n",
              "\n",
              "    .dataframe tbody tr th {\n",
              "        vertical-align: top;\n",
              "    }\n",
              "\n",
              "    .dataframe thead th {\n",
              "        text-align: right;\n",
              "    }\n",
              "</style>\n",
              "<table border=\"1\" class=\"dataframe\">\n",
              "  <thead>\n",
              "    <tr style=\"text-align: right;\">\n",
              "      <th></th>\n",
              "      <th>Unnamed: 0</th>\n",
              "      <th>Unnamed: 0.1</th>\n",
              "      <th>Unnamed: 0.1.1</th>\n",
              "      <th>Unnamed: 0.1.1.1</th>\n",
              "      <th>Unnamed: 0.1.1.1.1</th>\n",
              "      <th>Unnamed: 0.1.1.1.1.1</th>\n",
              "      <th>Unnamed: 0.1.1.1.1.1.1</th>\n",
              "      <th>Employee_ID</th>\n",
              "      <th>Gender</th>\n",
              "      <th>Age</th>\n",
              "      <th>Education_Level</th>\n",
              "      <th>Relationship_Status</th>\n",
              "      <th>Hometown</th>\n",
              "      <th>Unit</th>\n",
              "      <th>Decision_skill_possess</th>\n",
              "      <th>Time_of_service</th>\n",
              "      <th>Time_since_promotion</th>\n",
              "      <th>growth_rate</th>\n",
              "      <th>Travel_Rate</th>\n",
              "      <th>Post_Level</th>\n",
              "      <th>Pay_Scale</th>\n",
              "      <th>Compensation_and_Benefits</th>\n",
              "      <th>Work_Life_balance</th>\n",
              "      <th>VAR1</th>\n",
              "      <th>VAR2</th>\n",
              "      <th>VAR3</th>\n",
              "      <th>VAR4</th>\n",
              "      <th>VAR5</th>\n",
              "      <th>VAR6</th>\n",
              "      <th>VAR7</th>\n",
              "      <th>Attribution_rate</th>\n",
              "    </tr>\n",
              "  </thead>\n",
              "  <tbody>\n",
              "    <tr>\n",
              "      <th>0</th>\n",
              "      <td>0</td>\n",
              "      <td>0</td>\n",
              "      <td>0</td>\n",
              "      <td>0</td>\n",
              "      <td>0</td>\n",
              "      <td>0</td>\n",
              "      <td>0</td>\n",
              "      <td>EID_22713</td>\n",
              "      <td>F</td>\n",
              "      <td>32.0</td>\n",
              "      <td>5</td>\n",
              "      <td>Single</td>\n",
              "      <td>Springfield</td>\n",
              "      <td>R&amp;D</td>\n",
              "      <td>Conceptual</td>\n",
              "      <td>7.0</td>\n",
              "      <td>4</td>\n",
              "      <td>30</td>\n",
              "      <td>1</td>\n",
              "      <td>5</td>\n",
              "      <td>4.0</td>\n",
              "      <td>type2</td>\n",
              "      <td>1.0</td>\n",
              "      <td>3</td>\n",
              "      <td>-0.9612</td>\n",
              "      <td>-0.4537</td>\n",
              "      <td>2.0</td>\n",
              "      <td>1</td>\n",
              "      <td>8</td>\n",
              "      <td>4</td>\n",
              "      <td>0.196348</td>\n",
              "    </tr>\n",
              "    <tr>\n",
              "      <th>1</th>\n",
              "      <td>1</td>\n",
              "      <td>1</td>\n",
              "      <td>1</td>\n",
              "      <td>1</td>\n",
              "      <td>1</td>\n",
              "      <td>1</td>\n",
              "      <td>1</td>\n",
              "      <td>EID_9658</td>\n",
              "      <td>M</td>\n",
              "      <td>65.0</td>\n",
              "      <td>2</td>\n",
              "      <td>Single</td>\n",
              "      <td>Lebanon</td>\n",
              "      <td>IT</td>\n",
              "      <td>Directive</td>\n",
              "      <td>41.0</td>\n",
              "      <td>2</td>\n",
              "      <td>72</td>\n",
              "      <td>1</td>\n",
              "      <td>1</td>\n",
              "      <td>1.0</td>\n",
              "      <td>type2</td>\n",
              "      <td>1.0</td>\n",
              "      <td>4</td>\n",
              "      <td>-0.9612</td>\n",
              "      <td>0.7075</td>\n",
              "      <td>1.0</td>\n",
              "      <td>2</td>\n",
              "      <td>8</td>\n",
              "      <td>2</td>\n",
              "      <td>0.185719</td>\n",
              "    </tr>\n",
              "    <tr>\n",
              "      <th>2</th>\n",
              "      <td>2</td>\n",
              "      <td>2</td>\n",
              "      <td>2</td>\n",
              "      <td>2</td>\n",
              "      <td>2</td>\n",
              "      <td>2</td>\n",
              "      <td>2</td>\n",
              "      <td>EID_22203</td>\n",
              "      <td>M</td>\n",
              "      <td>52.0</td>\n",
              "      <td>3</td>\n",
              "      <td>Married</td>\n",
              "      <td>Springfield</td>\n",
              "      <td>Sales</td>\n",
              "      <td>Directive</td>\n",
              "      <td>21.0</td>\n",
              "      <td>3</td>\n",
              "      <td>25</td>\n",
              "      <td>0</td>\n",
              "      <td>1</td>\n",
              "      <td>8.0</td>\n",
              "      <td>type3</td>\n",
              "      <td>1.0</td>\n",
              "      <td>4</td>\n",
              "      <td>-0.1048</td>\n",
              "      <td>0.7075</td>\n",
              "      <td>2.0</td>\n",
              "      <td>1</td>\n",
              "      <td>9</td>\n",
              "      <td>3</td>\n",
              "      <td>0.165640</td>\n",
              "    </tr>\n",
              "    <tr>\n",
              "      <th>3</th>\n",
              "      <td>3</td>\n",
              "      <td>3</td>\n",
              "      <td>3</td>\n",
              "      <td>3</td>\n",
              "      <td>3</td>\n",
              "      <td>3</td>\n",
              "      <td>3</td>\n",
              "      <td>EID_7652</td>\n",
              "      <td>M</td>\n",
              "      <td>50.0</td>\n",
              "      <td>5</td>\n",
              "      <td>Single</td>\n",
              "      <td>Washington</td>\n",
              "      <td>Marketing</td>\n",
              "      <td>Analytical</td>\n",
              "      <td>11.0</td>\n",
              "      <td>4</td>\n",
              "      <td>28</td>\n",
              "      <td>1</td>\n",
              "      <td>1</td>\n",
              "      <td>2.0</td>\n",
              "      <td>type0</td>\n",
              "      <td>4.0</td>\n",
              "      <td>3</td>\n",
              "      <td>-0.1048</td>\n",
              "      <td>0.7075</td>\n",
              "      <td>2.0</td>\n",
              "      <td>2</td>\n",
              "      <td>8</td>\n",
              "      <td>3</td>\n",
              "      <td>0.191409</td>\n",
              "    </tr>\n",
              "    <tr>\n",
              "      <th>4</th>\n",
              "      <td>4</td>\n",
              "      <td>4</td>\n",
              "      <td>4</td>\n",
              "      <td>4</td>\n",
              "      <td>4</td>\n",
              "      <td>4</td>\n",
              "      <td>4</td>\n",
              "      <td>EID_6516</td>\n",
              "      <td>F</td>\n",
              "      <td>44.0</td>\n",
              "      <td>3</td>\n",
              "      <td>Married</td>\n",
              "      <td>Franklin</td>\n",
              "      <td>R&amp;D</td>\n",
              "      <td>Conceptual</td>\n",
              "      <td>12.0</td>\n",
              "      <td>4</td>\n",
              "      <td>47</td>\n",
              "      <td>1</td>\n",
              "      <td>3</td>\n",
              "      <td>2.0</td>\n",
              "      <td>type2</td>\n",
              "      <td>4.0</td>\n",
              "      <td>4</td>\n",
              "      <td>1.6081</td>\n",
              "      <td>0.7075</td>\n",
              "      <td>2.0</td>\n",
              "      <td>2</td>\n",
              "      <td>7</td>\n",
              "      <td>4</td>\n",
              "      <td>0.195940</td>\n",
              "    </tr>\n",
              "    <tr>\n",
              "      <th>...</th>\n",
              "      <td>...</td>\n",
              "      <td>...</td>\n",
              "      <td>...</td>\n",
              "      <td>...</td>\n",
              "      <td>...</td>\n",
              "      <td>...</td>\n",
              "      <td>...</td>\n",
              "      <td>...</td>\n",
              "      <td>...</td>\n",
              "      <td>...</td>\n",
              "      <td>...</td>\n",
              "      <td>...</td>\n",
              "      <td>...</td>\n",
              "      <td>...</td>\n",
              "      <td>...</td>\n",
              "      <td>...</td>\n",
              "      <td>...</td>\n",
              "      <td>...</td>\n",
              "      <td>...</td>\n",
              "      <td>...</td>\n",
              "      <td>...</td>\n",
              "      <td>...</td>\n",
              "      <td>...</td>\n",
              "      <td>...</td>\n",
              "      <td>...</td>\n",
              "      <td>...</td>\n",
              "      <td>...</td>\n",
              "      <td>...</td>\n",
              "      <td>...</td>\n",
              "      <td>...</td>\n",
              "      <td>...</td>\n",
              "    </tr>\n",
              "    <tr>\n",
              "      <th>2995</th>\n",
              "      <td>2995</td>\n",
              "      <td>2995</td>\n",
              "      <td>2995</td>\n",
              "      <td>2995</td>\n",
              "      <td>2995</td>\n",
              "      <td>2995</td>\n",
              "      <td>2995</td>\n",
              "      <td>EID_22547</td>\n",
              "      <td>F</td>\n",
              "      <td>32.0</td>\n",
              "      <td>3</td>\n",
              "      <td>Single</td>\n",
              "      <td>Franklin</td>\n",
              "      <td>Sales</td>\n",
              "      <td>Directive</td>\n",
              "      <td>3.0</td>\n",
              "      <td>3</td>\n",
              "      <td>38</td>\n",
              "      <td>1</td>\n",
              "      <td>3</td>\n",
              "      <td>6.0</td>\n",
              "      <td>type2</td>\n",
              "      <td>2.0</td>\n",
              "      <td>1</td>\n",
              "      <td>-0.1048</td>\n",
              "      <td>0.7075</td>\n",
              "      <td>1.0</td>\n",
              "      <td>4</td>\n",
              "      <td>7</td>\n",
              "      <td>4</td>\n",
              "      <td>0.193878</td>\n",
              "    </tr>\n",
              "    <tr>\n",
              "      <th>2996</th>\n",
              "      <td>2996</td>\n",
              "      <td>2996</td>\n",
              "      <td>2996</td>\n",
              "      <td>2996</td>\n",
              "      <td>2996</td>\n",
              "      <td>2996</td>\n",
              "      <td>2996</td>\n",
              "      <td>EID_10066</td>\n",
              "      <td>F</td>\n",
              "      <td>NaN</td>\n",
              "      <td>2</td>\n",
              "      <td>Single</td>\n",
              "      <td>Franklin</td>\n",
              "      <td>Marketing</td>\n",
              "      <td>Conceptual</td>\n",
              "      <td>10.0</td>\n",
              "      <td>2</td>\n",
              "      <td>57</td>\n",
              "      <td>1</td>\n",
              "      <td>4</td>\n",
              "      <td>9.0</td>\n",
              "      <td>type2</td>\n",
              "      <td>1.0</td>\n",
              "      <td>3</td>\n",
              "      <td>0.7516</td>\n",
              "      <td>0.7075</td>\n",
              "      <td>3.0</td>\n",
              "      <td>4</td>\n",
              "      <td>8</td>\n",
              "      <td>3</td>\n",
              "      <td>0.170152</td>\n",
              "    </tr>\n",
              "    <tr>\n",
              "      <th>2997</th>\n",
              "      <td>2997</td>\n",
              "      <td>2997</td>\n",
              "      <td>2997</td>\n",
              "      <td>2997</td>\n",
              "      <td>2997</td>\n",
              "      <td>2997</td>\n",
              "      <td>2997</td>\n",
              "      <td>EID_7126</td>\n",
              "      <td>F</td>\n",
              "      <td>60.0</td>\n",
              "      <td>4</td>\n",
              "      <td>Single</td>\n",
              "      <td>Lebanon</td>\n",
              "      <td>Logistics</td>\n",
              "      <td>Analytical</td>\n",
              "      <td>35.0</td>\n",
              "      <td>1</td>\n",
              "      <td>69</td>\n",
              "      <td>0</td>\n",
              "      <td>2</td>\n",
              "      <td>9.0</td>\n",
              "      <td>type3</td>\n",
              "      <td>3.0</td>\n",
              "      <td>3</td>\n",
              "      <td>-1.8176</td>\n",
              "      <td>-0.4537</td>\n",
              "      <td>NaN</td>\n",
              "      <td>4</td>\n",
              "      <td>8</td>\n",
              "      <td>4</td>\n",
              "      <td>0.175397</td>\n",
              "    </tr>\n",
              "    <tr>\n",
              "      <th>2998</th>\n",
              "      <td>2998</td>\n",
              "      <td>2998</td>\n",
              "      <td>2998</td>\n",
              "      <td>2998</td>\n",
              "      <td>2998</td>\n",
              "      <td>2998</td>\n",
              "      <td>2998</td>\n",
              "      <td>EID_4929</td>\n",
              "      <td>F</td>\n",
              "      <td>51.0</td>\n",
              "      <td>1</td>\n",
              "      <td>Married</td>\n",
              "      <td>Springfield</td>\n",
              "      <td>IT</td>\n",
              "      <td>Behavioral</td>\n",
              "      <td>23.0</td>\n",
              "      <td>1</td>\n",
              "      <td>30</td>\n",
              "      <td>0</td>\n",
              "      <td>2</td>\n",
              "      <td>6.0</td>\n",
              "      <td>type3</td>\n",
              "      <td>1.0</td>\n",
              "      <td>5</td>\n",
              "      <td>0.7516</td>\n",
              "      <td>-0.4537</td>\n",
              "      <td>2.0</td>\n",
              "      <td>3</td>\n",
              "      <td>9</td>\n",
              "      <td>2</td>\n",
              "      <td>0.168755</td>\n",
              "    </tr>\n",
              "    <tr>\n",
              "      <th>2999</th>\n",
              "      <td>2999</td>\n",
              "      <td>2999</td>\n",
              "      <td>2999</td>\n",
              "      <td>2999</td>\n",
              "      <td>2999</td>\n",
              "      <td>2999</td>\n",
              "      <td>2999</td>\n",
              "      <td>EID_24750</td>\n",
              "      <td>F</td>\n",
              "      <td>45.0</td>\n",
              "      <td>1</td>\n",
              "      <td>Single</td>\n",
              "      <td>Franklin</td>\n",
              "      <td>Sales</td>\n",
              "      <td>Directive</td>\n",
              "      <td>12.0</td>\n",
              "      <td>4</td>\n",
              "      <td>70</td>\n",
              "      <td>1</td>\n",
              "      <td>2</td>\n",
              "      <td>8.0</td>\n",
              "      <td>type4</td>\n",
              "      <td>4.0</td>\n",
              "      <td>3</td>\n",
              "      <td>0.7516</td>\n",
              "      <td>-0.4537</td>\n",
              "      <td>2.0</td>\n",
              "      <td>2</td>\n",
              "      <td>8</td>\n",
              "      <td>5</td>\n",
              "      <td>0.187021</td>\n",
              "    </tr>\n",
              "  </tbody>\n",
              "</table>\n",
              "<p>3000 rows × 31 columns</p>\n",
              "</div>"
            ],
            "text/plain": [
              "      Unnamed: 0  Unnamed: 0.1  Unnamed: 0.1.1  ...  VAR6  VAR7  Attribution_rate\n",
              "0              0             0               0  ...     8     4          0.196348\n",
              "1              1             1               1  ...     8     2          0.185719\n",
              "2              2             2               2  ...     9     3          0.165640\n",
              "3              3             3               3  ...     8     3          0.191409\n",
              "4              4             4               4  ...     7     4          0.195940\n",
              "...          ...           ...             ...  ...   ...   ...               ...\n",
              "2995        2995          2995            2995  ...     7     4          0.193878\n",
              "2996        2996          2996            2996  ...     8     3          0.170152\n",
              "2997        2997          2997            2997  ...     8     4          0.175397\n",
              "2998        2998          2998            2998  ...     9     2          0.168755\n",
              "2999        2999          2999            2999  ...     8     5          0.187021\n",
              "\n",
              "[3000 rows x 31 columns]"
            ]
          },
          "metadata": {
            "tags": []
          },
          "execution_count": 387
        }
      ]
    },
    {
      "cell_type": "code",
      "metadata": {
        "id": "MWRqWwvKQage",
        "colab_type": "code",
        "colab": {
          "base_uri": "https://localhost:8080/",
          "height": 34
        },
        "outputId": "850184f9-5122-473a-fe53-74d1009ec41f"
      },
      "source": [
        "testing_data_X=testing_data[['Education_Level',\"Time_since_promotion\",'growth_rate','Post_Level','Work_Life_balance','VAR2','VAR4','VAR1','VAR3','VAR5',\"VAR6\"]]\n",
        "testing_data_X.shape"
      ],
      "execution_count": null,
      "outputs": [
        {
          "output_type": "execute_result",
          "data": {
            "text/plain": [
              "(3000, 11)"
            ]
          },
          "metadata": {
            "tags": []
          },
          "execution_count": 388
        }
      ]
    },
    {
      "cell_type": "code",
      "metadata": {
        "id": "nuY_17cA3joy",
        "colab_type": "code",
        "colab": {
          "base_uri": "https://localhost:8080/",
          "height": 34
        },
        "outputId": "735b1751-b3b2-45d4-eea7-59f151c9f7ac"
      },
      "source": [
        "from sklearn.preprocessing import OneHotEncoder,LabelEncoder\n",
        "le=LabelEncoder()\n",
        "\n",
        "#testing_data_X['Compensation_and_Benefits']=le.fit_transform(testing_data_X['Compensation_and_Benefits'])\n",
        "testing_data_X.shape"
      ],
      "execution_count": null,
      "outputs": [
        {
          "output_type": "execute_result",
          "data": {
            "text/plain": [
              "(3000, 11)"
            ]
          },
          "metadata": {
            "tags": []
          },
          "execution_count": 389
        }
      ]
    },
    {
      "cell_type": "code",
      "metadata": {
        "id": "D9GFr8yfQblI",
        "colab_type": "code",
        "colab": {
          "base_uri": "https://localhost:8080/",
          "height": 230
        },
        "outputId": "8c31fe7b-0683-4306-9b12-0376e30d19fb"
      },
      "source": [
        "testing_data_X.isnull().sum()"
      ],
      "execution_count": null,
      "outputs": [
        {
          "output_type": "execute_result",
          "data": {
            "text/plain": [
              "Education_Level           0\n",
              "Time_since_promotion      0\n",
              "growth_rate               0\n",
              "Post_Level                0\n",
              "Work_Life_balance         5\n",
              "VAR2                    217\n",
              "VAR4                    298\n",
              "VAR1                      0\n",
              "VAR3                      0\n",
              "VAR5                      0\n",
              "VAR6                      0\n",
              "dtype: int64"
            ]
          },
          "metadata": {
            "tags": []
          },
          "execution_count": 390
        }
      ]
    },
    {
      "cell_type": "code",
      "metadata": {
        "id": "IsbZUn08QwnH",
        "colab_type": "code",
        "colab": {
          "base_uri": "https://localhost:8080/",
          "height": 141
        },
        "outputId": "a5daecb9-807c-4972-d15d-249d15ad415c"
      },
      "source": [
        "from sklearn.impute import SimpleImputer\n",
        "imp_testing=SimpleImputer(strategy='mean')\n",
        "testing_data_X_imputed = imp_testing.fit_transform(testing_data_X)\n",
        "#train_data_X= imp.transform(train_data_X)\n",
        "#train_data_X.isnull().sum()\n",
        "testing_data_X_imputed"
      ],
      "execution_count": null,
      "outputs": [
        {
          "output_type": "execute_result",
          "data": {
            "text/plain": [
              "array([[ 5.    ,  4.    , 30.    , ..., -0.4537,  1.    ,  8.    ],\n",
              "       [ 2.    ,  2.    , 72.    , ...,  0.7075,  2.    ,  8.    ],\n",
              "       [ 3.    ,  3.    , 25.    , ...,  0.7075,  1.    ,  9.    ],\n",
              "       ...,\n",
              "       [ 4.    ,  1.    , 69.    , ..., -0.4537,  4.    ,  8.    ],\n",
              "       [ 1.    ,  1.    , 30.    , ..., -0.4537,  3.    ,  9.    ],\n",
              "       [ 1.    ,  4.    , 70.    , ..., -0.4537,  2.    ,  8.    ]])"
            ]
          },
          "metadata": {
            "tags": []
          },
          "execution_count": 391
        }
      ]
    },
    {
      "cell_type": "code",
      "metadata": {
        "id": "LJzBQJCoRTwU",
        "colab_type": "code",
        "colab": {
          "base_uri": "https://localhost:8080/",
          "height": 52
        },
        "outputId": "cefe4434-c9a5-46e7-bafe-0a7f2d290092"
      },
      "source": [
        "from sklearn.preprocessing import StandardScaler,MinMaxScaler\n",
        "\n",
        "#sc_X_testing = StandardScaler()\n",
        "#X_testing_scaled = sc_X_testing.fit_transform(testing_data_X_imputed)\n",
        "X_testing_scaled=maxabs_scale(testing_data_X_imputed)\n",
        "#X_test = sc_X.transform(X_test)\n",
        "print(X_testing_scaled.flatten())\n",
        "#X_testing_scaled.flatten()"
      ],
      "execution_count": null,
      "outputs": [
        {
          "output_type": "stream",
          "text": [
            "[ 1.          1.          0.40540541 ... -0.16342483  0.4\n",
            "  0.88888889]\n"
          ],
          "name": "stdout"
        }
      ]
    },
    {
      "cell_type": "code",
      "metadata": {
        "id": "R4Y9DdwaRUVo",
        "colab_type": "code",
        "colab": {}
      },
      "source": [
        "testing_result_y=lin_regressor.predict(X_testing_scaled)"
      ],
      "execution_count": null,
      "outputs": []
    },
    {
      "cell_type": "code",
      "metadata": {
        "id": "kRQz_vhaRUzt",
        "colab_type": "code",
        "colab": {
          "base_uri": "https://localhost:8080/",
          "height": 52
        },
        "outputId": "7edf167f-da77-4d7c-d2fe-320db02aa786"
      },
      "source": [
        "testing_result_y"
      ],
      "execution_count": null,
      "outputs": [
        {
          "output_type": "execute_result",
          "data": {
            "text/plain": [
              "array([0.20058117, 0.20396401, 0.18372011, ..., 0.20690398, 0.17495854,\n",
              "       0.20184107])"
            ]
          },
          "metadata": {
            "tags": []
          },
          "execution_count": 394
        }
      ]
    },
    {
      "cell_type": "code",
      "metadata": {
        "id": "Oi7j_WsERVaM",
        "colab_type": "code",
        "colab": {}
      },
      "source": [
        "testing_data[\"Attribution_rate\"]=testing_result_y"
      ],
      "execution_count": null,
      "outputs": []
    },
    {
      "cell_type": "code",
      "metadata": {
        "id": "KoU-xI6tRV6K",
        "colab_type": "code",
        "colab": {}
      },
      "source": [
        ""
      ],
      "execution_count": null,
      "outputs": []
    },
    {
      "cell_type": "code",
      "metadata": {
        "id": "VyedCuN5-GOn",
        "colab_type": "code",
        "colab": {
          "base_uri": "https://localhost:8080/",
          "height": 406
        },
        "outputId": "84104248-ab78-4f3f-aae1-87f9e30b19d2"
      },
      "source": [
        "id=testing_data['Employee_ID']\n",
        "submission=pd.DataFrame({\"Employee_ID\":id,\"Attrition_rate\":testing_result_y})\n",
        "submission"
      ],
      "execution_count": null,
      "outputs": [
        {
          "output_type": "execute_result",
          "data": {
            "text/html": [
              "<div>\n",
              "<style scoped>\n",
              "    .dataframe tbody tr th:only-of-type {\n",
              "        vertical-align: middle;\n",
              "    }\n",
              "\n",
              "    .dataframe tbody tr th {\n",
              "        vertical-align: top;\n",
              "    }\n",
              "\n",
              "    .dataframe thead th {\n",
              "        text-align: right;\n",
              "    }\n",
              "</style>\n",
              "<table border=\"1\" class=\"dataframe\">\n",
              "  <thead>\n",
              "    <tr style=\"text-align: right;\">\n",
              "      <th></th>\n",
              "      <th>Employee_ID</th>\n",
              "      <th>Attrition_rate</th>\n",
              "    </tr>\n",
              "  </thead>\n",
              "  <tbody>\n",
              "    <tr>\n",
              "      <th>0</th>\n",
              "      <td>EID_22713</td>\n",
              "      <td>0.200581</td>\n",
              "    </tr>\n",
              "    <tr>\n",
              "      <th>1</th>\n",
              "      <td>EID_9658</td>\n",
              "      <td>0.203964</td>\n",
              "    </tr>\n",
              "    <tr>\n",
              "      <th>2</th>\n",
              "      <td>EID_22203</td>\n",
              "      <td>0.183720</td>\n",
              "    </tr>\n",
              "    <tr>\n",
              "      <th>3</th>\n",
              "      <td>EID_7652</td>\n",
              "      <td>0.191397</td>\n",
              "    </tr>\n",
              "    <tr>\n",
              "      <th>4</th>\n",
              "      <td>EID_6516</td>\n",
              "      <td>0.188936</td>\n",
              "    </tr>\n",
              "    <tr>\n",
              "      <th>...</th>\n",
              "      <td>...</td>\n",
              "      <td>...</td>\n",
              "    </tr>\n",
              "    <tr>\n",
              "      <th>2995</th>\n",
              "      <td>EID_22547</td>\n",
              "      <td>0.193172</td>\n",
              "    </tr>\n",
              "    <tr>\n",
              "      <th>2996</th>\n",
              "      <td>EID_10066</td>\n",
              "      <td>0.180216</td>\n",
              "    </tr>\n",
              "    <tr>\n",
              "      <th>2997</th>\n",
              "      <td>EID_7126</td>\n",
              "      <td>0.206904</td>\n",
              "    </tr>\n",
              "    <tr>\n",
              "      <th>2998</th>\n",
              "      <td>EID_4929</td>\n",
              "      <td>0.174959</td>\n",
              "    </tr>\n",
              "    <tr>\n",
              "      <th>2999</th>\n",
              "      <td>EID_24750</td>\n",
              "      <td>0.201841</td>\n",
              "    </tr>\n",
              "  </tbody>\n",
              "</table>\n",
              "<p>3000 rows × 2 columns</p>\n",
              "</div>"
            ],
            "text/plain": [
              "     Employee_ID  Attrition_rate\n",
              "0      EID_22713        0.200581\n",
              "1       EID_9658        0.203964\n",
              "2      EID_22203        0.183720\n",
              "3       EID_7652        0.191397\n",
              "4       EID_6516        0.188936\n",
              "...          ...             ...\n",
              "2995   EID_22547        0.193172\n",
              "2996   EID_10066        0.180216\n",
              "2997    EID_7126        0.206904\n",
              "2998    EID_4929        0.174959\n",
              "2999   EID_24750        0.201841\n",
              "\n",
              "[3000 rows x 2 columns]"
            ]
          },
          "metadata": {
            "tags": []
          },
          "execution_count": 396
        }
      ]
    },
    {
      "cell_type": "code",
      "metadata": {
        "id": "v1YqJWhpdpbj",
        "colab_type": "code",
        "colab": {
          "base_uri": "https://localhost:8080/",
          "height": 406
        },
        "outputId": "2d38bbc8-6bd0-4f4b-af9e-8d40ccf9c98f"
      },
      "source": [
        "submission.to_csv('submission_1.csv', index=False)\n",
        "submission"
      ],
      "execution_count": null,
      "outputs": [
        {
          "output_type": "execute_result",
          "data": {
            "text/html": [
              "<div>\n",
              "<style scoped>\n",
              "    .dataframe tbody tr th:only-of-type {\n",
              "        vertical-align: middle;\n",
              "    }\n",
              "\n",
              "    .dataframe tbody tr th {\n",
              "        vertical-align: top;\n",
              "    }\n",
              "\n",
              "    .dataframe thead th {\n",
              "        text-align: right;\n",
              "    }\n",
              "</style>\n",
              "<table border=\"1\" class=\"dataframe\">\n",
              "  <thead>\n",
              "    <tr style=\"text-align: right;\">\n",
              "      <th></th>\n",
              "      <th>Employee_ID</th>\n",
              "      <th>Attrition_rate</th>\n",
              "    </tr>\n",
              "  </thead>\n",
              "  <tbody>\n",
              "    <tr>\n",
              "      <th>0</th>\n",
              "      <td>EID_22713</td>\n",
              "      <td>0.200581</td>\n",
              "    </tr>\n",
              "    <tr>\n",
              "      <th>1</th>\n",
              "      <td>EID_9658</td>\n",
              "      <td>0.203964</td>\n",
              "    </tr>\n",
              "    <tr>\n",
              "      <th>2</th>\n",
              "      <td>EID_22203</td>\n",
              "      <td>0.183720</td>\n",
              "    </tr>\n",
              "    <tr>\n",
              "      <th>3</th>\n",
              "      <td>EID_7652</td>\n",
              "      <td>0.191397</td>\n",
              "    </tr>\n",
              "    <tr>\n",
              "      <th>4</th>\n",
              "      <td>EID_6516</td>\n",
              "      <td>0.188936</td>\n",
              "    </tr>\n",
              "    <tr>\n",
              "      <th>...</th>\n",
              "      <td>...</td>\n",
              "      <td>...</td>\n",
              "    </tr>\n",
              "    <tr>\n",
              "      <th>2995</th>\n",
              "      <td>EID_22547</td>\n",
              "      <td>0.193172</td>\n",
              "    </tr>\n",
              "    <tr>\n",
              "      <th>2996</th>\n",
              "      <td>EID_10066</td>\n",
              "      <td>0.180216</td>\n",
              "    </tr>\n",
              "    <tr>\n",
              "      <th>2997</th>\n",
              "      <td>EID_7126</td>\n",
              "      <td>0.206904</td>\n",
              "    </tr>\n",
              "    <tr>\n",
              "      <th>2998</th>\n",
              "      <td>EID_4929</td>\n",
              "      <td>0.174959</td>\n",
              "    </tr>\n",
              "    <tr>\n",
              "      <th>2999</th>\n",
              "      <td>EID_24750</td>\n",
              "      <td>0.201841</td>\n",
              "    </tr>\n",
              "  </tbody>\n",
              "</table>\n",
              "<p>3000 rows × 2 columns</p>\n",
              "</div>"
            ],
            "text/plain": [
              "     Employee_ID  Attrition_rate\n",
              "0      EID_22713        0.200581\n",
              "1       EID_9658        0.203964\n",
              "2      EID_22203        0.183720\n",
              "3       EID_7652        0.191397\n",
              "4       EID_6516        0.188936\n",
              "...          ...             ...\n",
              "2995   EID_22547        0.193172\n",
              "2996   EID_10066        0.180216\n",
              "2997    EID_7126        0.206904\n",
              "2998    EID_4929        0.174959\n",
              "2999   EID_24750        0.201841\n",
              "\n",
              "[3000 rows x 2 columns]"
            ]
          },
          "metadata": {
            "tags": []
          },
          "execution_count": 397
        }
      ]
    },
    {
      "cell_type": "code",
      "metadata": {
        "id": "wTIZZMRCFmZU",
        "colab_type": "code",
        "colab": {
          "base_uri": "https://localhost:8080/",
          "height": 197
        },
        "outputId": "06ab01f0-c4c1-4e83-91f3-42be8b6b4a40"
      },
      "source": [
        "hello=pd.read_csv('/content/drive/My Drive/Dataset/sample_submission.csv')\n",
        "hello"
      ],
      "execution_count": null,
      "outputs": [
        {
          "output_type": "execute_result",
          "data": {
            "text/html": [
              "<div>\n",
              "<style scoped>\n",
              "    .dataframe tbody tr th:only-of-type {\n",
              "        vertical-align: middle;\n",
              "    }\n",
              "\n",
              "    .dataframe tbody tr th {\n",
              "        vertical-align: top;\n",
              "    }\n",
              "\n",
              "    .dataframe thead th {\n",
              "        text-align: right;\n",
              "    }\n",
              "</style>\n",
              "<table border=\"1\" class=\"dataframe\">\n",
              "  <thead>\n",
              "    <tr style=\"text-align: right;\">\n",
              "      <th></th>\n",
              "      <th>Employee_ID</th>\n",
              "      <th>Attrition_rate</th>\n",
              "    </tr>\n",
              "  </thead>\n",
              "  <tbody>\n",
              "    <tr>\n",
              "      <th>0</th>\n",
              "      <td>TID_1</td>\n",
              "      <td>0.1588</td>\n",
              "    </tr>\n",
              "    <tr>\n",
              "      <th>1</th>\n",
              "      <td>TID_2</td>\n",
              "      <td>0.1424</td>\n",
              "    </tr>\n",
              "    <tr>\n",
              "      <th>2</th>\n",
              "      <td>TID_3</td>\n",
              "      <td>0.4758</td>\n",
              "    </tr>\n",
              "    <tr>\n",
              "      <th>3</th>\n",
              "      <td>TID_4</td>\n",
              "      <td>0.0846</td>\n",
              "    </tr>\n",
              "    <tr>\n",
              "      <th>4</th>\n",
              "      <td>TID_5</td>\n",
              "      <td>0.2388</td>\n",
              "    </tr>\n",
              "  </tbody>\n",
              "</table>\n",
              "</div>"
            ],
            "text/plain": [
              "  Employee_ID  Attrition_rate\n",
              "0       TID_1          0.1588\n",
              "1       TID_2          0.1424\n",
              "2       TID_3          0.4758\n",
              "3       TID_4          0.0846\n",
              "4       TID_5          0.2388"
            ]
          },
          "metadata": {
            "tags": []
          },
          "execution_count": 398
        }
      ]
    },
    {
      "cell_type": "code",
      "metadata": {
        "id": "pB6me9orbOvz",
        "colab_type": "code",
        "colab": {}
      },
      "source": [
        ""
      ],
      "execution_count": null,
      "outputs": []
    }
  ]
}